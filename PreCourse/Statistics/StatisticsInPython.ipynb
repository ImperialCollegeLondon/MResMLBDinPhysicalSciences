{
 "cells": [
  {
   "cell_type": "markdown",
   "id": "00d07e58",
   "metadata": {},
   "source": [
    "# MLBD Precourse \n",
    "## Statistics in Python\n",
    "\n",
    "In the MLBD MRes taught module \"Statistical Methods for Experimental Physics\n",
    "\", we use python heavily. In this precourse material, we will introduce the basic tools in python that we use for statistics. Some of these are also covered in the \"Scientific Python\" precourse, but here we'll focus on statistics use cases.\n",
    "\n",
    "The most common packages we'll need are `matplotlib`, `numpy` and `scipy`."
   ]
  },
  {
   "cell_type": "code",
   "execution_count": 1,
   "id": "fa12bec6",
   "metadata": {},
   "outputs": [],
   "source": [
    "import matplotlib.pyplot as plt\n",
    "from scipy import stats\n",
    "import numpy"
   ]
  },
  {
   "cell_type": "markdown",
   "id": "d9106e77",
   "metadata": {},
   "source": [
    "## Random variables\n",
    "\n",
    "Random variables are a central concept in probability and statistics. We will only deal with two types of random variables, discrete and continuous. \n",
    "\n",
    "In python, we can use the `numpy.random` variable for generating random discrete and continuous variables. \n",
    "\n",
    "for *discrete* variables, we might have a set (or infinite set) of discrete outcomes for some event. For example, the event could be a dice roll, where the discrete outcomes are 1,2,3,4,5 or 6. We can randomly generate rolls using the `numpy.random.choice` method.\n",
    "\n",
    "Each time you run the cell below, you will see a different random outcome and the probability for any outcome will be equal.  "
   ]
  },
  {
   "cell_type": "code",
   "execution_count": 2,
   "id": "441a4459",
   "metadata": {},
   "outputs": [
    {
     "name": "stdout",
     "output_type": "stream",
     "text": [
      "2\n"
     ]
    }
   ],
   "source": [
    "dice_roll_outcomes = ['1','2','3','4','5','6']\n",
    "random_roll = numpy.random.choice(dice_roll_outcomes)\n",
    "print(random_roll)"
   ]
  },
  {
   "cell_type": "markdown",
   "id": "5a3fbdc4",
   "metadata": {},
   "source": [
    "We can also generate random *continuous* variables using python with the `numpy.random.uniform` method. By default, this will generate a random number  between  0 and 1, but we can also provide a minimum and maximum value to change that range. "
   ]
  },
  {
   "cell_type": "code",
   "execution_count": 3,
   "id": "d273e4b5",
   "metadata": {},
   "outputs": [
    {
     "name": "stdout",
     "output_type": "stream",
     "text": [
      "0.7255363416571785\n"
     ]
    }
   ],
   "source": [
    "minimum=-1\n",
    "maximum=3\n",
    "random_continuous = numpy.random.uniform(minimum,maximum)\n",
    "print(random_continuous)"
   ]
  },
  {
   "cell_type": "markdown",
   "id": "0838a65d",
   "metadata": {},
   "source": [
    "## Probability distributions\n",
    "\n",
    "In the above cells, the probability that a particular outcome occurs is independent on that outcome. We also want to look at random variables that are distributed such that different outcomes have different probabilities  -- i.e we want to use probability distributions. \n",
    "\n",
    "the `scipy.stats` package has lots of different probability  distributions  we can access. Below are some examples of common probability distributions. We'll use the notation  that $x$ is our random variable and $f(x;\\theta)$ is the probability distribution, where $\\theta$ are the parameters of that distribution.  \n",
    "\n",
    "Let's take for example the *Poisson*  distribution, which has one parameter $\\lambda$. \n",
    "\n",
    "$$\n",
    "f(x;\\lambda) = \\frac{\\lambda^{x}}{x!}e^{-\\lambda}\n",
    "$$\n",
    "\n",
    "The Poisson distribution is for discrete random variables and $x$ will be a random integer between 0 and +infinity. In scipy we can use the `stats.poisson` module. \n",
    "\n",
    "We can plot the distribution using  the `.pmf` (for discrete random variables) which stands for \"probability mass function\". Note that the `pmf` function has the calling pattern `.pmf(x,param1,param2,...)`.\n",
    "\n",
    "Try changing the value of $\\lambda$ (called `lamb`) to see how the distribution changes. "
   ]
  },
  {
   "cell_type": "code",
   "execution_count": 4,
   "id": "0bb0ec74",
   "metadata": {},
   "outputs": [
    {
     "data": {
      "image/png": "[encoded data removed]",
      "text/plain": [
       "<Figure size 432x288 with 1 Axes>"
      ]
     },
     "metadata": {
      "needs_background": "light"
     },
     "output_type": "display_data"
    }
   ],
   "source": [
    "lamb = 5\n",
    "x = range(0,20) \n",
    "\n",
    "plt.plot(x,stats.poisson.pmf(x,lamb),marker=\"o\")\n",
    "plt.xlabel(\"$x$\")\n",
    "plt.ylabel(\"$f(x;\\lambda)$\")\n",
    "plt.show()"
   ]
  },
  {
   "cell_type": "markdown",
   "id": "e3df7d6e",
   "metadata": {},
   "source": [
    "We can do the same thing for continuous random  variables. For example, the Gaussian distribution has two parameters $\\mu$, and $\\sigma$. In scipy, a Gaussian is called a *normal* distribution (`stats.norm`) \n",
    "\n",
    "In this case we need to use the `.pdf` function - which stands for \"probability density function\" to plot the distribution. "
   ]
  },
  {
   "cell_type": "code",
   "execution_count": 5,
   "id": "3299850d",
   "metadata": {},
   "outputs": [
    {
     "data": {
      "image/png": "[encoded data removed]",
      "text/plain": [
       "<Figure size 432x288 with 1 Axes>"
      ]
     },
     "metadata": {
      "needs_background": "light"
     },
     "output_type": "display_data"
    }
   ],
   "source": [
    "mu = 10\n",
    "sigma = 3\n",
    "x = range(0,20)\n",
    "\n",
    "plt.plot(x,stats.norm.pdf(x,mu,sigma))\n",
    "plt.xlabel(\"$x$\")\n",
    "plt.ylabel(\"$f(x;\\lambda)$\")\n",
    "plt.show()"
   ]
  },
  {
   "cell_type": "markdown",
   "id": "9291d779",
   "metadata": {},
   "source": [
    "We  can use these modules to *generate* random variables that are distributed according to some probability distribution. For example, lets generate 100 discrete random variables that are distributed according to a Poisson distribution with parameter $\\lambda=4$. We will use the `.rvs` method for it. \n",
    "\n",
    "Note that the calling pattern is `.rvs(param1,param2,...,size=n)`)"
   ]
  },
  {
   "cell_type": "code",
   "execution_count": 6,
   "id": "ce61e012",
   "metadata": {},
   "outputs": [
    {
     "name": "stdout",
     "output_type": "stream",
     "text": [
      "[ 1  1  3  5  3  3  2  5  2  2  2  6  1  7  3  4  3  7  4  2  3  4  3  3\n",
      "  4  6  3  5  5  6  3  3  5  1  4  5  5  3  4  4  3  8  4  5  6  6  6  3\n",
      "  4  2  4  2  6  8  3  3  2  6  5  1  9  6  0  2  9  8  2  1  3  3  4  6\n",
      "  2  1  2  3  4  5  1  1  1  4  4  4  4  4  6  6  3  5 10  3  6  2  6  7\n",
      "  4  4  2  5]\n"
     ]
    }
   ],
   "source": [
    "discrete_random = stats.poisson.rvs(4,size=100)\n",
    "print(discrete_random)"
   ]
  },
  {
   "cell_type": "markdown",
   "id": "19569c8a",
   "metadata": {},
   "source": [
    "We can plot these as a *histogram* to see how the random variables are distributed."
   ]
  },
  {
   "cell_type": "code",
   "execution_count": 7,
   "id": "78eb3bde",
   "metadata": {},
   "outputs": [
    {
     "data": {
      "image/png": "[encoded data removed]",
      "text/plain": [
       "<Figure size 432x288 with 1 Axes>"
      ]
     },
     "metadata": {
      "needs_background": "light"
     },
     "output_type": "display_data"
    }
   ],
   "source": [
    "plt.hist(discrete_random,bins=10,range=(0.5,10.5))\n",
    "plt.xlabel(\"$x$\")\n",
    "plt.ylabel(\"number of occurances\")\n",
    "plt.show()"
   ]
  },
  {
   "cell_type": "markdown",
   "id": "7739d242",
   "metadata": {},
   "source": [
    "Have a go at generating a Gaussian random variable. You can find a list of the probabillity distributions available in `scipy.stats` at https://docs.scipy.org/doc/scipy/reference/tutorial/stats/discrete.html and https://docs.scipy.org/doc/scipy/reference/tutorial/stats/continuous.html"
   ]
  },
  {
   "cell_type": "markdown",
   "id": "fdc259cf",
   "metadata": {},
   "source": [
    "## Moments\n",
    "\n",
    "We often want to calculate moments of distributions of samples of random variables. In python, we can do this very quickly using the `numpy` package. \n",
    "\n",
    "Let's calculate the mean and standard deviation for a sample of random numbers that are generated from a Gaussian distribution with parameters $\\mu=0$,$\\sigma=4$. "
   ]
  },
  {
   "cell_type": "code",
   "execution_count": 8,
   "id": "b3a1ddc6",
   "metadata": {},
   "outputs": [
    {
     "name": "stdout",
     "output_type": "stream",
     "text": [
      "mean= -0.04492952312007042\n",
      "standard deviation= 3.930015297641045\n"
     ]
    }
   ],
   "source": [
    "random_variables = stats.norm.rvs(0,4,1000)\n",
    "\n",
    "print(\"mean=\",numpy.mean(random_variables))\n",
    "print(\"standard deviation=\",numpy.std(random_variables))"
   ]
  },
  {
   "cell_type": "markdown",
   "id": "7e8eba9f",
   "metadata": {},
   "source": [
    "You will see that the mean is quite close to $\\mu$ and  the standard deviation is close to $\\sigma$. There is a good reason for this that you'll learn in your statistics lectures!"
   ]
  },
  {
   "cell_type": "code",
   "execution_count": null,
   "id": "016dc614",
   "metadata": {},
   "outputs": [],
   "source": []
  }
 ],
 "metadata": {
  "kernelspec": {
   "display_name": "Python 3 (ipykernel)",
   "language": "python",
   "name": "python3"
  },
  "language_info": {
   "codemirror_mode": {
    "name": "ipython",
    "version": 3
   },
   "file_extension": ".py",
   "mimetype": "text/x-python",
   "name": "python",
   "nbconvert_exporter": "python",
   "pygments_lexer": "ipython3",
   "version": "3.8.5"
  }
 },
 "nbformat": 4,
 "nbformat_minor": 5
}
