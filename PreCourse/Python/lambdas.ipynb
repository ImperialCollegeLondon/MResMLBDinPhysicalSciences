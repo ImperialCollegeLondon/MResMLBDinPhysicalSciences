{
 "cells": [
  {
   "cell_type": "markdown",
   "metadata": {},
   "source": [
    "# List comprehensions and Lambda functions\n",
    "\n",
    "\n",
    "List comprehension is a very \"Pythonic\" way of performing operations on a sequence of objects without writing for loops. Consider the two code blocks below, \n",
    "\n",
    "For loop:\n",
    "```python\n",
    "a = []\n",
    "for i in range(10):\n",
    "    a.append(i**2)\n",
    "print(a)\n",
    "```\n",
    "\n",
    "List comprehension:\n",
    "```python\n",
    "a = [ i**2 for i in range(10) ]\n",
    "print(a)\n",
    "```\n",
    "\n",
    "In the first, we loop through the numbers 0..9 and add the square of the number to a list. The second loop does the same thing but in a single line of code. \n",
    "\n",
    "**Q: Copy the code blocks into two cells below and check that they give the same answers. Try increasing the `range(10)` to `range(1000)`. Do you notice any difference in the speed of the code?**"
   ]
  },
  {
   "cell_type": "code",
   "execution_count": null,
   "metadata": {},
   "outputs": [],
   "source": [
    "# For loop"
   ]
  },
  {
   "cell_type": "code",
   "execution_count": null,
   "metadata": {},
   "outputs": [],
   "source": [
    "# List comprehension"
   ]
  },
  {
   "cell_type": "markdown",
   "metadata": {},
   "source": [
    "List comprehension can be very useful when combined with `lambda` functions. \n",
    "\n",
    "Lambda functions are just little one line functions that can be defined in-line. Have a look at the following cell and see if you can understand what the `lambda` function that is defined is doing."
   ]
  },
  {
   "cell_type": "code",
   "execution_count": null,
   "metadata": {},
   "outputs": [],
   "source": [
    "addlam=lambda x,y:x+y\n",
    "\n",
    "print(addlam(2,3))\n",
    "\n",
    "def addnolam(x,y):\n",
    "    return x+y\n",
    "\n",
    "print(addnolam(4,5))"
   ]
  },
  {
   "cell_type": "markdown",
   "metadata": {},
   "source": [
    "You can also use lambda directly by putting them in brackets. See the following example"
   ]
  },
  {
   "cell_type": "code",
   "execution_count": null,
   "metadata": {},
   "outputs": [],
   "source": [
    "x=(lambda x,y,z: (x+y)/z) (1,2,4)\n",
    "\n",
    "print(x)"
   ]
  },
  {
   "cell_type": "markdown",
   "metadata": {},
   "source": [
    "Now we can use `lambda` functions inside list comprehensions to see their usefulness. "
   ]
  },
  {
   "cell_type": "code",
   "execution_count": null,
   "metadata": {},
   "outputs": [],
   "source": [
    "from numpy import math\n",
    "import matplotlib.pyplot as plt \n",
    "\n",
    "a = [(lambda x: math.sin(0.2*x))(x) for x in range(100)]\n",
    "plt.plot(range(100),a)"
   ]
  },
  {
   "cell_type": "markdown",
   "metadata": {},
   "source": [
    "**Q: Write your own lambda functions to find the sum of the square roots of the positive integers from 1 to 100. Try to see if you can do this in a single line of code. Hint, Python has a built-in `sum` function that takes a list as input.**"
   ]
  },
  {
   "cell_type": "code",
   "execution_count": null,
   "metadata": {},
   "outputs": [],
   "source": [
    "#"
   ]
  }
 ],
 "metadata": {
  "kernelspec": {
   "display_name": "Python 3",
   "language": "python",
   "name": "python3"
  },
  "language_info": {
   "codemirror_mode": {
    "name": "ipython",
    "version": 3
   },
   "file_extension": ".py",
   "mimetype": "text/x-python",
   "name": "python",
   "nbconvert_exporter": "python",
   "pygments_lexer": "ipython3",
   "version": "3.8.3"
  }
 },
 "nbformat": 4,
 "nbformat_minor": 4
}
