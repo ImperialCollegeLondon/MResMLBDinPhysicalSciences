{
 "cells": [
  {
   "cell_type": "markdown",
   "metadata": {},
   "source": [
    "# Exceptions\n",
    "\n",
    "A lot of python code uses exceptions, they are particularly useful when there is a probability of something failing. Consider the following:"
   ]
  },
  {
   "cell_type": "code",
   "execution_count": 1,
   "metadata": {},
   "outputs": [
    {
     "ename": "NameError",
     "evalue": "name 'x' is not defined",
     "output_type": "error",
     "traceback": [
      "\u001b[0;31m---------------------------------------------------------------------------\u001b[0m",
      "\u001b[0;31mNameError\u001b[0m                                 Traceback (most recent call last)",
      "\u001b[0;32m<ipython-input-1-117ac3b21420>\u001b[0m in \u001b[0;36m<module>\u001b[0;34m\u001b[0m\n\u001b[0;32m----> 1\u001b[0;31m \u001b[0mprint\u001b[0m\u001b[0;34m(\u001b[0m\u001b[0mx\u001b[0m\u001b[0;34m)\u001b[0m \u001b[0;31m# x is not yet defined\u001b[0m\u001b[0;34m\u001b[0m\u001b[0;34m\u001b[0m\u001b[0m\n\u001b[0m",
      "\u001b[0;31mNameError\u001b[0m: name 'x' is not defined"
     ]
    }
   ],
   "source": [
    "print(x) # x is not yet defined"
   ]
  },
  {
   "cell_type": "markdown",
   "metadata": {},
   "source": [
    "or the following"
   ]
  },
  {
   "cell_type": "code",
   "execution_count": 2,
   "metadata": {},
   "outputs": [
    {
     "ename": "ZeroDivisionError",
     "evalue": "division by zero",
     "output_type": "error",
     "traceback": [
      "\u001b[0;31m---------------------------------------------------------------------------\u001b[0m",
      "\u001b[0;31mZeroDivisionError\u001b[0m                         Traceback (most recent call last)",
      "\u001b[0;32m<ipython-input-2-cf083c18cd33>\u001b[0m in \u001b[0;36m<module>\u001b[0;34m\u001b[0m\n\u001b[1;32m      1\u001b[0m \u001b[0ma\u001b[0m\u001b[0;34m=\u001b[0m\u001b[0;36m1\u001b[0m\u001b[0;34m\u001b[0m\u001b[0;34m\u001b[0m\u001b[0m\n\u001b[1;32m      2\u001b[0m \u001b[0mb\u001b[0m\u001b[0;34m=\u001b[0m\u001b[0;36m0\u001b[0m\u001b[0;34m\u001b[0m\u001b[0;34m\u001b[0m\u001b[0m\n\u001b[0;32m----> 3\u001b[0;31m \u001b[0mc\u001b[0m\u001b[0;34m=\u001b[0m\u001b[0ma\u001b[0m\u001b[0;34m/\u001b[0m\u001b[0mb\u001b[0m\u001b[0;34m\u001b[0m\u001b[0;34m\u001b[0m\u001b[0m\n\u001b[0m",
      "\u001b[0;31mZeroDivisionError\u001b[0m: division by zero"
     ]
    }
   ],
   "source": [
    "a=1\n",
    "b=0\n",
    "c=a/b"
   ]
  },
  {
   "cell_type": "markdown",
   "metadata": {},
   "source": [
    "or even"
   ]
  },
  {
   "cell_type": "code",
   "execution_count": 3,
   "metadata": {},
   "outputs": [
    {
     "ename": "TypeError",
     "evalue": "unsupported operand type(s) for +: 'int' and 'str'",
     "output_type": "error",
     "traceback": [
      "\u001b[0;31m---------------------------------------------------------------------------\u001b[0m",
      "\u001b[0;31mTypeError\u001b[0m                                 Traceback (most recent call last)",
      "\u001b[0;32m<ipython-input-3-949721a4854e>\u001b[0m in \u001b[0;36m<module>\u001b[0;34m\u001b[0m\n\u001b[1;32m      1\u001b[0m \u001b[0ma\u001b[0m\u001b[0;34m=\u001b[0m\u001b[0;36m1\u001b[0m\u001b[0;34m\u001b[0m\u001b[0;34m\u001b[0m\u001b[0m\n\u001b[1;32m      2\u001b[0m \u001b[0mb\u001b[0m\u001b[0;34m=\u001b[0m\u001b[0;34m\"0\"\u001b[0m\u001b[0;34m\u001b[0m\u001b[0;34m\u001b[0m\u001b[0m\n\u001b[0;32m----> 3\u001b[0;31m \u001b[0mc\u001b[0m\u001b[0;34m=\u001b[0m\u001b[0ma\u001b[0m\u001b[0;34m+\u001b[0m\u001b[0mb\u001b[0m\u001b[0;34m\u001b[0m\u001b[0;34m\u001b[0m\u001b[0m\n\u001b[0m",
      "\u001b[0;31mTypeError\u001b[0m: unsupported operand type(s) for +: 'int' and 'str'"
     ]
    }
   ],
   "source": [
    "a=1\n",
    "b=\"0\"\n",
    "c=a+b"
   ]
  },
  {
   "cell_type": "code",
   "execution_count": 4,
   "metadata": {},
   "outputs": [
    {
     "name": "stdout",
     "output_type": "stream",
     "text": [
      "Something didn't work\n"
     ]
    }
   ],
   "source": [
    "try:\n",
    "    print(x) # note that x is not yet \n",
    "except: # this will catch any error\n",
    "    print(\"Something didn't work\")"
   ]
  },
  {
   "cell_type": "markdown",
   "metadata": {},
   "source": [
    "You can be more selective about your errors. For example consider the following:"
   ]
  },
  {
   "cell_type": "code",
   "execution_count": 5,
   "metadata": {},
   "outputs": [
    {
     "name": "stdout",
     "output_type": "stream",
     "text": [
      "Trying to divide by zero? Now who's a muppet?\n"
     ]
    }
   ],
   "source": [
    "try:\n",
    "    a=1\n",
    "    b=0\n",
    "    c=a/b\n",
    "    print(c)\n",
    "except NameError:\n",
    "    print(\"you generated a NameError, are you sure that it exists?\")\n",
    "except ZeroDivisionError:\n",
    "    print(\"Trying to divide by zero? Now who's a muppet?\")\n",
    "except:\n",
    "    print(\"Something else went wrong\")\n",
    "    "
   ]
  },
  {
   "cell_type": "markdown",
   "metadata": {},
   "source": [
    "Try putting inverted commas around the 0 in the assignment of b and see how this changes things."
   ]
  },
  {
   "cell_type": "markdown",
   "metadata": {},
   "source": [
    "### But what happens if nothing goes wrong or you want do/say something regardless of whether or not something went wrong? \n",
    "\n",
    "```python \n",
    "else\n",
    "```\n",
    "and \n",
    "```python\n",
    "finally\n",
    "```\n",
    "are also useful in these circumstances. Play around the code below so that it does or does not generate exceptions (e.g. try changing the value of b)."
   ]
  },
  {
   "cell_type": "code",
   "execution_count": 6,
   "metadata": {},
   "outputs": [
    {
     "name": "stdout",
     "output_type": "stream",
     "text": [
      "Trying to divide by zero? Now who's a muppet?\n",
      "It doesn't really matter if we err or not ... the world keeps turning\n"
     ]
    }
   ],
   "source": [
    "try:\n",
    "    a=1\n",
    "    b=0\n",
    "    c=a/b\n",
    "    print(c)\n",
    "except NameError:\n",
    "    print(\"you generated a NameError, are you sure that it exists?\")\n",
    "except ZeroDivisionError:\n",
    "    print(\"Trying to divide by zero? Now who's a muppet?\")\n",
    "except:\n",
    "    print(\"Something else went wrong\")\n",
    "else:\n",
    "    print(\"Phew, no errors this time\")\n",
    "finally:\n",
    "    print(\"It doesn't really matter if we err or not ... the world keeps turning\")"
   ]
  },
  {
   "cell_type": "markdown",
   "metadata": {},
   "source": [
    "Excptions can also be caught in functions that are called. This can make them very useful indeed. Run the following example a few times "
   ]
  },
  {
   "cell_type": "code",
   "execution_count": 10,
   "metadata": {},
   "outputs": [
    {
     "name": "stdout",
     "output_type": "stream",
     "text": [
      "1.230228480456963\n",
      "3.006196240284359\n",
      "2.2468342166076893\n",
      "Trying to divide by zero? Now who's a muppet?\n",
      "It doesn't really matter if we err or not ... the world keeps turning\n"
     ]
    }
   ],
   "source": [
    "import numpy.random as npr\n",
    "\n",
    "def inverted_randoms(ntries):\n",
    "    for i in range(ntries):\n",
    "        x=npr.random()\n",
    "        if x < 0.05:\n",
    "            x=0.  # an engineering approximation\n",
    "        print(1/x)\n",
    "    return 0\n",
    "\n",
    "try:\n",
    "    inverted_randoms(10)\n",
    "except NameError:\n",
    "    print(\"you generated a NameError, are you sure that it exists?\")\n",
    "except ZeroDivisionError:\n",
    "    print(\"Trying to divide by zero? Now who's a muppet?\")\n",
    "except:\n",
    "    print(\"Something else went wrong\")\n",
    "else:\n",
    "    print(\"Phew, no errors this time\")\n",
    "finally:\n",
    "    print(\"It doesn't really matter if we err or not ... the world keeps turning\")"
   ]
  },
  {
   "cell_type": "markdown",
   "metadata": {},
   "source": [
    "### Want to generate your own exceptions?\n",
    "\n",
    "Use \n",
    "```python\n",
    "\n",
    "raise\n",
    "```\n",
    "\n",
    "to do this. "
   ]
  },
  {
   "cell_type": "code",
   "execution_count": 12,
   "metadata": {},
   "outputs": [],
   "source": [
    "x = \"hallo\"\n",
    "\n",
    "if not type(x) is int:\n",
    "  raise TypeError(\"Only integers are allowed\")"
   ]
  },
  {
   "cell_type": "code",
   "execution_count": 13,
   "metadata": {},
   "outputs": [
    {
     "name": "stdout",
     "output_type": "stream",
     "text": [
      "Oh no, wrong type\n"
     ]
    }
   ],
   "source": [
    "x = \"hello\"\n",
    "\n",
    "\n",
    "try:\n",
    "    if not type(x) is int:\n",
    "      raise TypeError(\"Only integers are allowed\")\n",
    "\n",
    "except TypeError:\n",
    "    print(\"Oh no, wrong type\")"
   ]
  },
  {
   "cell_type": "code",
   "execution_count": 14,
   "metadata": {},
   "outputs": [
    {
     "name": "stdout",
     "output_type": "stream",
     "text": [
      "An error (2, 'Burt messed up again', 3.14)\n"
     ]
    }
   ],
   "source": [
    "try:\n",
    "    raise Exception(2,\"Burt messed up again\",3.14)\n",
    "except Exception as inst:\n",
    "    print(\"An error\",inst.args)"
   ]
  },
  {
   "cell_type": "markdown",
   "metadata": {},
   "source": [
    "You can also write your own exception classes and these can be very useful. Consider and run the following example:"
   ]
  },
  {
   "cell_type": "code",
   "execution_count": 16,
   "metadata": {},
   "outputs": [
    {
     "name": "stdout",
     "output_type": "stream",
     "text": [
      "Enter a number: 1\n",
      "<class '__main__.ValueTooSmall'>\n",
      "Oh dear you are a numpty\n",
      "The number is 5\n",
      "5\n"
     ]
    }
   ],
   "source": [
    "class A(Exception):\n",
    "    \"\"\"Base class for other exceptions\"\"\"\n",
    "    pass\n",
    "\n",
    "class ValueTooSmall(A):\n",
    "    def __init__(self,mess=\"Oh dear you are a numpty\",num=5):\n",
    "        self.mess=mess\n",
    "        self.__num=num\n",
    "    \n",
    "    def get_num(self):\n",
    "        print(\"The number is\",self.__num)\n",
    "        return self.__num\n",
    "    \n",
    "\n",
    "    \n",
    "\n",
    "x=int(input(\"Enter a number: \"))\n",
    "min = 10\n",
    "try:\n",
    "    if x < min :\n",
    "        raise ValueTooSmall\n",
    "        #raise ValueTooSmall(\"They say that size doesn't matter huh?\",x)\n",
    "\n",
    "except ValueTooSmall as inst:\n",
    "    print(type(inst))\n",
    "    print(inst.mess)\n",
    "    val=inst.get_num()\n",
    "    print(val)\n",
    "    \n",
    "    "
   ]
  },
  {
   "cell_type": "markdown",
   "metadata": {},
   "source": [
    "### Exercise\n",
    "\n",
    "Create a dict of peoples names and ages, then write ask the person running the script to enter a name and return an age. Handle the exception of the name not being in the dictionary."
   ]
  },
  {
   "cell_type": "code",
   "execution_count": null,
   "metadata": {},
   "outputs": [],
   "source": []
  }
 ],
 "metadata": {
  "kernelspec": {
   "display_name": "Python 3 (ipykernel)",
   "language": "python",
   "name": "python3"
  },
  "language_info": {
   "codemirror_mode": {
    "name": "ipython",
    "version": 3
   },
   "file_extension": ".py",
   "mimetype": "text/x-python",
   "name": "python",
   "nbconvert_exporter": "python",
   "pygments_lexer": "ipython3",
   "version": "3.8.5"
  }
 },
 "nbformat": 4,
 "nbformat_minor": 4
}
