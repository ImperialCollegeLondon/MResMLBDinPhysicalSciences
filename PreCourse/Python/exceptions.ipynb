{
 "cells": [
  {
   "cell_type": "markdown",
   "metadata": {},
   "source": [
    "# Exceptions in Python\n",
    "\n",
    "Very often when programming in Python (especially for the first time, but trust us - even the experts will do it), you will hit an error in your code. \n",
    "\n",
    "A lot of python code uses exceptions to handle errors encountered while running the code. They are particularly useful when there is any probability of something failing to catch the error and provide helpful feedback to the user/programmer. \n",
    "\n",
    "Consider the following:"
   ]
  },
  {
   "cell_type": "code",
   "execution_count": null,
   "metadata": {},
   "outputs": [],
   "source": [
    "print(x) # x is not yet defined"
   ]
  },
  {
   "cell_type": "markdown",
   "metadata": {},
   "source": [
    "or the following"
   ]
  },
  {
   "cell_type": "code",
   "execution_count": null,
   "metadata": {},
   "outputs": [],
   "source": [
    "a=1\n",
    "b=0\n",
    "c=a/b"
   ]
  },
  {
   "cell_type": "markdown",
   "metadata": {},
   "source": [
    "or even"
   ]
  },
  {
   "cell_type": "code",
   "execution_count": null,
   "metadata": {},
   "outputs": [],
   "source": [
    "a=1\n",
    "b=\"0\"\n",
    "c=a+b"
   ]
  },
  {
   "cell_type": "markdown",
   "metadata": {},
   "source": [
    "All of the error messages provide the type of error encountered and some useful information about where the error occurred (line numbers and snippets of code) and what caused the error itself. You can use this information to fix the code. \n",
    "\n",
    "Often you can avoid the error and make the code do something more useful by predicting which errors are likely to occur. Let's take a look at the first example again but this time try to catch the error."
   ]
  },
  {
   "cell_type": "code",
   "execution_count": null,
   "metadata": {},
   "outputs": [],
   "source": [
    "try:\n",
    "    print(x) # note that x is not yet \n",
    "except: # this will catch any error\n",
    "    print(\"Something didn't work\")"
   ]
  },
  {
   "cell_type": "markdown",
   "metadata": {},
   "source": [
    "You can be more selective about your errors too, using the built-in Python error types (see here for a list of them : https://docs.python.org/3/library/exceptions.html#). \n",
    "\n",
    "For example consider the following:"
   ]
  },
  {
   "cell_type": "code",
   "execution_count": null,
   "metadata": {},
   "outputs": [],
   "source": [
    "try:\n",
    "    a=1\n",
    "    b=0\n",
    "    c=a/b\n",
    "    print(c)\n",
    "except NameError:\n",
    "    print(\"you generated a NameError, are you sure that it exists?\")\n",
    "except ZeroDivisionError:\n",
    "    print(\"Trying to divide by zero? Surely you know not to do that?\")\n",
    "except:\n",
    "    print(\"Something else went wrong\")\n",
    "    "
   ]
  },
  {
   "cell_type": "markdown",
   "metadata": {},
   "source": [
    "**Q: Try putting inverted commas around the 0 in the assignment of b and see how this changes things.** "
   ]
  },
  {
   "cell_type": "markdown",
   "metadata": {},
   "source": [
    "But what happens if nothing goes wrong or you want do/say something regardless of whether or not something went wrong? \n",
    "\n",
    "```python \n",
    "else\n",
    "```\n",
    "and \n",
    "```python\n",
    "finally\n",
    "```\n",
    "\n",
    "are also useful in these circumstances to guide the code to do something useful in the event of an error. \n",
    "\n",
    "**Q: Play around the code below so that it does or does not generate exceptions (e.g. try changing the value of b).**"
   ]
  },
  {
   "cell_type": "code",
   "execution_count": null,
   "metadata": {},
   "outputs": [],
   "source": [
    "try:\n",
    "    a=1\n",
    "    b=0\n",
    "    c=a/b\n",
    "    print(c)\n",
    "except NameError:\n",
    "    print(\"you generated a NameError, are you sure that it exists?\")\n",
    "except ZeroDivisionError:\n",
    "    print(\"Trying to divide by zero? Now who's a muppet?\")\n",
    "except:\n",
    "    print(\"Something else went wrong\")\n",
    "else:\n",
    "    print(\"Phew, no errors this time\")\n",
    "finally:\n",
    "    print(\"It doesn't really matter if we err or not ... the world keeps turning\")"
   ]
  },
  {
   "cell_type": "markdown",
   "metadata": {},
   "source": [
    "Excptions can also be caught in functions that are called. This can make them very useful indeed. \n",
    "\n",
    "**Q: Run the following cell a few times and see how the output changes** "
   ]
  },
  {
   "cell_type": "code",
   "execution_count": null,
   "metadata": {},
   "outputs": [],
   "source": [
    "import numpy.random as npr\n",
    "\n",
    "def inverted_randoms(ntries):\n",
    "    for i in range(ntries):\n",
    "        x=npr.random()\n",
    "        if x < 0.05:\n",
    "            x=0.  # an engineering approximation\n",
    "        print(1/x)\n",
    "    return 0\n",
    "\n",
    "try:\n",
    "    inverted_randoms(10)\n",
    "except NameError:\n",
    "    print(\"you generated a NameError, are you sure that it exists?\")\n",
    "except ZeroDivisionError:\n",
    "    print(\"Trying to divide by zero? Now who's a muppet?\")\n",
    "except:\n",
    "    print(\"Something else went wrong\")\n",
    "else:\n",
    "    print(\"Phew, no errors this time\")\n",
    "finally:\n",
    "    print(\"It doesn't really matter if we err or not ... the world keeps turning\")"
   ]
  },
  {
   "cell_type": "markdown",
   "metadata": {},
   "source": [
    "You can also generate your own exceptions.\n",
    "\n",
    "Use \n",
    "```python\n",
    "\n",
    "raise\n",
    "```\n",
    "\n",
    "to do this. "
   ]
  },
  {
   "cell_type": "code",
   "execution_count": null,
   "metadata": {},
   "outputs": [],
   "source": [
    "x = \"hallo\"\n",
    "\n",
    "if not type(x) is int:\n",
    "  raise TypeError(\"Only integers are allowed\")"
   ]
  },
  {
   "cell_type": "code",
   "execution_count": null,
   "metadata": {},
   "outputs": [],
   "source": [
    "x = \"hello\"\n",
    "\n",
    "\n",
    "try:\n",
    "    if not type(x) is int:\n",
    "      raise TypeError(\"Only integers are allowed\")\n",
    "\n",
    "except TypeError:\n",
    "    print(\"Oh no, wrong type\")"
   ]
  },
  {
   "cell_type": "code",
   "execution_count": null,
   "metadata": {},
   "outputs": [],
   "source": [
    "try:\n",
    "    raise Exception(2,\"Burt messed up again\",3.14)\n",
    "except Exception as inst:\n",
    "    print(\"An error\",inst.args)"
   ]
  },
  {
   "cell_type": "markdown",
   "metadata": {},
   "source": [
    "Finally, it is also possible to write your own exception classes and these can be very useful. Consider and run the following example:"
   ]
  },
  {
   "cell_type": "code",
   "execution_count": null,
   "metadata": {},
   "outputs": [],
   "source": [
    "class A(Exception):\n",
    "    \"\"\"Base class for other exceptions\"\"\"\n",
    "    pass\n",
    "\n",
    "class ValueTooSmall(A):\n",
    "    def __init__(self,mess=\"Oh dear you are a numpty\",num=5):\n",
    "        self.mess=mess\n",
    "        self.__num=num\n",
    "    \n",
    "    def get_num(self):\n",
    "        print(\"The number is\",self.__num)\n",
    "        return self.__num\n",
    "    \n",
    "\n",
    "    \n",
    "\n",
    "x=int(input(\"Enter a number: \"))\n",
    "min = 10\n",
    "try:\n",
    "    if x < min :\n",
    "        raise ValueTooSmall\n",
    "        #raise ValueTooSmall(\"They say that size doesn't matter huh?\",x)\n",
    "\n",
    "except ValueTooSmall as inst:\n",
    "    print(type(inst))\n",
    "    print(inst.mess)\n",
    "    val=inst.get_num()\n",
    "    print(val)\n",
    "    \n",
    "    "
   ]
  },
  {
   "cell_type": "markdown",
   "metadata": {},
   "source": [
    "**Q: Create a Python dictionary of peoples names and ages, then ask the person running the script to enter a name and return an age. Handle the exception of the name not being in the dictionary.** "
   ]
  },
  {
   "cell_type": "code",
   "execution_count": null,
   "metadata": {},
   "outputs": [],
   "source": [
    "# finish the code ...\n",
    "my_dictionary = {\n",
    "    ...\n",
    "}\n",
    "user_response = input()\n",
    "print(user_response)"
   ]
  }
 ],
 "metadata": {
  "kernelspec": {
   "display_name": "Python 3 (ipykernel)",
   "language": "python",
   "name": "python3"
  },
  "language_info": {
   "codemirror_mode": {
    "name": "ipython",
    "version": 3
   },
   "file_extension": ".py",
   "mimetype": "text/x-python",
   "name": "python",
   "nbconvert_exporter": "python",
   "pygments_lexer": "ipython3",
   "version": "3.7.9"
  }
 },
 "nbformat": 4,
 "nbformat_minor": 4
}
