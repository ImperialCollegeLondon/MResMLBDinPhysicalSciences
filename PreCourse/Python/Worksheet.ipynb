{
 "cells": [
  {
   "cell_type": "markdown",
   "metadata": {},
   "source": [
    "# Worksheet: Scientific Python\n",
    "\n",
    "In this notebook, you will find several exercises that you can use Scientific Python to solve. After going through the slides on Scientific Python, try these exercises and make sure you are comfortable with them or at least have a good try at doing so. "
   ]
  },
  {
   "cell_type": "markdown",
   "metadata": {},
   "source": [
    "## Exercise 1.\n",
    "---\n",
    "\n",
    "1) Solve the following set of simultaneous equations and verify your solution\n",
    "\n",
    "$$x_{1} + 2x_{2} + 4x_{3} + 7x_{4} = 1$$\n",
    "$$2x_{1} + 4x_{2} + 7x_{3} + 8x_{4} = 5$$\n",
    "$$4x_{1} + 7x_{2} + 9x_{3} = 8$$\n",
    "$$x_{1} + 4x_{2} + 9x_{3} + 3x_{4} = 9$$\n",
    "\n",
    "2) Now do the same using the inverse matrix"
   ]
  },
  {
   "cell_type": "code",
   "execution_count": null,
   "metadata": {},
   "outputs": [],
   "source": []
  },
  {
   "cell_type": "markdown",
   "metadata": {},
   "source": [
    "## Exercise 2.\n",
    "---\n",
    "\n",
    "A data file has been prepared for you at the following location: `data/data_exercise2.csv`\n",
    "\n",
    "This exercise is in five parts:\n",
    "\n",
    "* Get the data from the file into this notebook, explore and visualise it.\n",
    "* Fit the data with an appropriate function using a non-linear least squares approach\n",
    "* State the model parameters with their errors\n",
    "* Plot the data along with the fit on the same axes\n",
    "* Perform a $\\chi^{2}$ goodnes of fit test and calculate the p-value for the fit"
   ]
  },
  {
   "cell_type": "code",
   "execution_count": null,
   "metadata": {},
   "outputs": [],
   "source": []
  },
  {
   "cell_type": "markdown",
   "metadata": {},
   "source": [
    "## Exercise 3.\n",
    "---\n",
    "In one dimension the equation of motion for a driven harmonic spring oscillator is:\n",
    "$$m\\frac{d^{2}x}{dt^{2}} + b \\frac{dx}{dt} + kx = F_{0}\\cos(\\Omega t)$$\n",
    "\n",
    "More commonly written as:\n",
    "$$\\ddot{x} + \\gamma \\dot{x} + \\omega^{2}x = A_{0}\\cos(\\Omega t)$$\n",
    "\n",
    "Where $\\gamma = b / m$ and $\\omega^{2} = k/m$\n",
    "\n",
    "---\n",
    "For an oscillator of mass $0.5kg$, spring constant $18Nm^{-1}$, damping constant of $0.5$ and driving force of $5N$, use numerical integration techniques to study the evolution of the spring under different driving frequencies. (Hint, you should be able to produce a nice resonance curve)"
   ]
  },
  {
   "cell_type": "code",
   "execution_count": null,
   "metadata": {},
   "outputs": [],
   "source": []
  },
  {
   "cell_type": "markdown",
   "metadata": {},
   "source": [
    "## Exercise 4.\n",
    "---\n",
    "Visualise and minimise the following 2D function:\n",
    "\n",
    "$$f(x, y) = \\sin(xy+y)\\exp^{−(x^{2}+y^{2})}$$"
   ]
  },
  {
   "cell_type": "code",
   "execution_count": null,
   "metadata": {},
   "outputs": [],
   "source": []
  },
  {
   "cell_type": "markdown",
   "metadata": {},
   "source": [
    "## Exercise 5.\n",
    "---\n",
    "\n",
    "For this exercise you need to read the dataset located: `data/data_exercise5.csv`\n",
    "\n",
    "This data comprises four columns of random variables sampled from the distribution given in the column name. Armed with this information:\n",
    "\n",
    "* Plot a histogram of the data for each column in a separate subplot on a 2x2 grid\n",
    "* Calculate the maximum likelihood estimators (MLEs) for the given distributions parameters.\n",
    "* Use these MLEs to plot a curve on top of the histogram\n",
    "* Calculate the $\\chi^{2}$ P-value for each fit\n"
   ]
  },
  {
   "cell_type": "code",
   "execution_count": 3,
   "metadata": {},
   "outputs": [],
   "source": [
    "# import pandas as pd\n",
    "# data = pd.read_csv(\"data/data_exercise5.csv\")\n",
    "# data.head()"
   ]
  },
  {
   "cell_type": "markdown",
   "metadata": {},
   "source": [
    "## Exercise 6.\n",
    "---\n",
    "\n",
    "Plot and find the roots of the equation:\n",
    "\n",
    "$$2 x^{5} + 3 x^{2} = 1$$\n",
    "\n",
    "(Hint: There may be a better way that the one shown in the lecture but it's a good start.)"
   ]
  },
  {
   "cell_type": "code",
   "execution_count": null,
   "metadata": {},
   "outputs": [],
   "source": []
  },
  {
   "cell_type": "markdown",
   "metadata": {},
   "source": [
    "## Exercise 7.\n",
    "---\n",
    "\n",
    "For this exercise you will use the data file located at: `data/data_exercise7.csv`\n",
    "\n",
    "This file contains time and signal measurements for a combined signal sampled at 50kHz. Your task is:\n",
    "\n",
    "* Plot the combined signal\n",
    "* Use the fast fourier transform algorithm to work out how many distinct signals made up the data.\n",
    "* Work out the frequencies of these constituent signals.\n",
    "* Plot the peaks in frequency space along with vertical lines and legends labeling the value of said peaks"
   ]
  },
  {
   "cell_type": "code",
   "execution_count": null,
   "metadata": {},
   "outputs": [],
   "source": []
  }
 ],
 "metadata": {
  "kernelspec": {
   "display_name": "Python 3",
   "language": "python",
   "name": "python3"
  },
  "language_info": {
   "codemirror_mode": {
    "name": "ipython",
    "version": 3
   },
   "file_extension": ".py",
   "mimetype": "text/x-python",
   "name": "python",
   "nbconvert_exporter": "python",
   "pygments_lexer": "ipython3",
   "version": "3.8.3"
  }
 },
 "nbformat": 4,
 "nbformat_minor": 2
}
